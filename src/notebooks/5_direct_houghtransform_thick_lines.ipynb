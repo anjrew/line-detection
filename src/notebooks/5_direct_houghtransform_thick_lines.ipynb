{
 "cells": [
  {
   "cell_type": "markdown",
   "metadata": {},
   "source": []
  },
  {
   "cell_type": "code",
   "execution_count": 32,
   "metadata": {},
   "outputs": [
    {
     "data": {
      "text/plain": [
       "'/workspaces/line-detection'"
      ]
     },
     "execution_count": 32,
     "metadata": {},
     "output_type": "execute_result"
    }
   ],
   "source": [
    "import sys\n",
    "import os\n",
    "\n",
    "parent_module_path = os.path.abspath(os.path.join(os.getcwd(), \"..\", \"..\"))\n",
    "\n",
    "\n",
    "sys.path.append(parent_module_path)\n",
    "parent_module_path"
   ]
  },
  {
   "cell_type": "code",
   "execution_count": 33,
   "metadata": {},
   "outputs": [],
   "source": [
    "import cv2\n",
    "import matplotlib.pyplot as plt"
   ]
  },
  {
   "cell_type": "code",
   "execution_count": 34,
   "metadata": {},
   "outputs": [],
   "source": [
    "image_path: str = \"../../images/mask.png\""
   ]
  },
  {
   "cell_type": "code",
   "execution_count": 35,
   "metadata": {},
   "outputs": [
    {
     "data": {
      "image/png": "[encoded data removed]",
      "text/plain": [
       "<Figure size 640x480 with 1 Axes>"
      ]
     },
     "metadata": {},
     "output_type": "display_data"
    }
   ],
   "source": [
    "image = cv2.imread(image_path, cv2.IMREAD_GRAYSCALE)\n",
    "plt.imshow(image)\n",
    "plt.axis(\"off\")\n",
    "plt.show()"
   ]
  },
  {
   "cell_type": "code",
   "execution_count": 36,
   "metadata": {},
   "outputs": [
    {
     "name": "stdout",
     "output_type": "stream",
     "text": [
      "The image is already in grayscale\n"
     ]
    }
   ],
   "source": [
    "# Check if the image is grayscale\n",
    "if len(image.shape) == 3 and image.shape[2] == 3:\n",
    "    print(\"The image is not in grayscale\")\n",
    "    # Convert the image to grayscale\n",
    "    gray = cv2.cvtColor(image, cv2.COLOR_BGR2GRAY)\n",
    "else:\n",
    "    print(\"The image is already in grayscale\")\n",
    "    gray = image.copy()"
   ]
  },
  {
   "cell_type": "markdown",
   "metadata": {},
   "source": [
    "# Run canny detection"
   ]
  },
  {
   "cell_type": "code",
   "execution_count": 37,
   "metadata": {},
   "outputs": [
    {
     "data": {
      "text/plain": [
       "<matplotlib.image.AxesImage at 0x7fb1af17fda0>"
      ]
     },
     "execution_count": 37,
     "metadata": {},
     "output_type": "execute_result"
    },
    {
     "data": {
      "image/png": "[encoded data removed]",
      "text/plain": [
       "<Figure size 640x480 with 1 Axes>"
      ]
     },
     "metadata": {},
     "output_type": "display_data"
    }
   ],
   "source": [
    "from src.project_utils.edge_detection import create_canny_edge_detection_img\n",
    "\n",
    "\n",
    "canny_image = create_canny_edge_detection_img(\n",
    "    image,lower_threshold=12, \n",
    "    upper_threshold=200,\n",
    "    gaussian_kernel_size=(17,17)\n",
    ")\n",
    "plt.imshow(canny_image)"
   ]
  },
  {
   "cell_type": "code",
   "execution_count": 39,
   "metadata": {},
   "outputs": [
    {
     "data": {
      "text/plain": [
       "array([[[70, 57, 91, 98]],\n",
       "\n",
       "       [[57, 45, 83, 99]],\n",
       "\n",
       "       [[38, 39, 79, 72]]], dtype=int32)"
      ]
     },
     "execution_count": 39,
     "metadata": {},
     "output_type": "execute_result"
    }
   ],
   "source": [
    "from src.project_utils.hough_transform import get_hough_lines\n",
    "\n",
    "# Get lines using the default parameters\n",
    "lines = get_hough_lines(canny_image, threshold=17 , min_line_length=40, max_line_gap=17)\n",
    "lines\n"
   ]
  },
  {
   "cell_type": "code",
   "execution_count": 43,
   "metadata": {},
   "outputs": [],
   "source": [
    "import numpy as np\n",
    "\n",
    "## Thin lines\n",
    "rho: float = 1 # distance resolution in pixels of the Hough grid\n",
    "theta: float = 0.04 # angular resolution in radians of the Hough grid\n",
    "threshold: int = 1 # minimum number of votes (intersections in Hough grid cell)\n",
    "min_line_length: int = 40 # minimum number of pixels making up a line\n",
    "max_line_gap: int = 17 # maximum gap in pixels between connectable line segments\n",
    "\n",
    "# ## Thick lines\n",
    "# rho = 1  # distance resolution in pixels of the Hough grid\n",
    "# theta = np.pi / 180  # angular resolution in radians of the Hough grid\n",
    "# threshold = 50  # minimum number of votes (intersections in Hough grid cell)\n",
    "# min_line_length = 200  # minimum number of pixels making up a line\n",
    "# max_line_gap = 20  # maximum gap in pixels between connectable line segments\n",
    "\n",
    "# Detect lines using HoughLin"
   ]
  },
  {
   "cell_type": "code",
   "execution_count": 44,
   "metadata": {},
   "outputs": [],
   "source": [
    "lines = cv2.HoughLinesP(\n",
    "    canny_image,\n",
    "    rho=rho,\n",
    "    theta=theta,\n",
    "    threshold=threshold,\n",
    "    minLineLength=min_line_length,\n",
    "    maxLineGap=max_line_gap,\n",
    ")"
   ]
  },
  {
   "cell_type": "code",
   "execution_count": 45,
   "metadata": {},
   "outputs": [],
   "source": [
    "assert lines is not None"
   ]
  },
  {
   "cell_type": "code",
   "execution_count": 46,
   "metadata": {},
   "outputs": [
    {
     "data": {
      "image/png": "[encoded data removed]",
      "text/plain": [
       "<Figure size 640x480 with 1 Axes>"
      ]
     },
     "metadata": {},
     "output_type": "display_data"
    }
   ],
   "source": [
    "\n",
    "\n",
    "# Create a copy of the original image to draw lines on\n",
    "line_image = cv2.cvtColor(image, cv2.COLOR_GRAY2RGB)\n",
    "\n",
    "# Draw lines on the image\n",
    "if lines is not None:\n",
    "    for line in lines:\n",
    "        x1, y1, x2, y2 = line[0]\n",
    "        cv2.line(line_image, (x1, y1), (x2, y2), (0, 0, 255), 2)\n",
    "\n",
    "# Display the image with lines\n",
    "plt.imshow(line_image)\n",
    "plt.axis(\"off\")\n",
    "plt.show()"
   ]
  },
  {
   "cell_type": "code",
   "execution_count": 47,
   "metadata": {},
   "outputs": [
    {
     "name": "stdout",
     "output_type": "stream",
     "text": [
      "[[67 54 91 98]]\n",
      "[[36 38 77 68]]\n"
     ]
    }
   ],
   "source": [
    "for line in lines:\n",
    "    print(line)\n",
    "    "
   ]
  },
  {
   "cell_type": "code",
   "execution_count": null,
   "metadata": {},
   "outputs": [],
   "source": []
  },
  {
   "cell_type": "code",
   "execution_count": null,
   "metadata": {},
   "outputs": [],
   "source": []
  }
 ],
 "metadata": {
  "kernelspec": {
   "display_name": "canny",
   "language": "python",
   "name": "python3"
  },
  "language_info": {
   "codemirror_mode": {
    "name": "ipython",
    "version": 3
   },
   "file_extension": ".py",
   "mimetype": "text/x-python",
   "name": "python",
   "nbconvert_exporter": "python",
   "pygments_lexer": "ipython3",
   "version": "3.12.3"
  }
 },
 "nbformat": 4,
 "nbformat_minor": 2
}
