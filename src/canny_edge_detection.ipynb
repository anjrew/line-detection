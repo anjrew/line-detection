{
 "cells": [
  {
   "cell_type": "markdown",
   "metadata": {},
   "source": [
    "# Imports"
   ]
  },
  {
   "cell_type": "code",
   "execution_count": 2,
   "metadata": {},
   "outputs": [],
   "source": [
    "import cv2\n",
    "import numpy as np"
   ]
  },
  {
   "cell_type": "code",
   "execution_count": 6,
   "metadata": {},
   "outputs": [],
   "source": [
    "\n",
    "# Variables \n",
    "image_path: str = '../images/lane-detection-test-image.png'\n",
    "lower_threshold: int = 100\n",
    "upper_threshold: int = 200"
   ]
  },
  {
   "cell_type": "code",
   "execution_count": 7,
   "metadata": {},
   "outputs": [],
   "source": [
    "# Read the image in grayscale\n",
    "image = cv2.imread(image_path, cv2.IMREAD_GRAYSCALE)\n",
    "cv2.imshow('Original Image', image)"
   ]
  },
  {
   "cell_type": "code",
   "execution_count": null,
   "metadata": {},
   "outputs": [],
   "source": [
    "# Apply Gaussian blur to reduce noise\n",
    "\n",
    "gaussian_kernel_size = (5, 5)\n",
    "\"\"\"\n",
    "- This argument represents the size of the Gaussian kernel.\n",
    "- It is a tuple specifying the width and height of the kernel.\n",
    "- In this case, the kernel size is set to (5, 5), which means a 5x5 square kernel will be used for blurring.\n",
    "- The kernel size should be an odd number to ensure that there is a center pixel.\n",
    "- Larger kernel sizes will result in more intense blurring, while smaller kernel sizes will produce less blurring.\n",
    "\"\"\"\n",
    "\n",
    "sigma_standard_deviation = 0\n",
    "\"\"\"\n",
    "- This argument represents the standard deviation (sigma) of the Gaussian distribution in the X and Y directions.\n",
    "- It determines the amount of blurring applied to the image.\n",
    "- When set to 0, as in this case, \n",
    "    OpenCV automatically calculates the standard deviation based on the kernel size using the formula: \n",
    "        sigma = 0.3 * ((ksize - 1) * 0.5 - 1) + 0.8.\n",
    "- If you want to specify a different standard deviation, you can provide a positive value instead of 0.\n",
    "\"\"\"\n",
    "\n",
    "\n",
    "blurred = cv2.GaussianBlur(image, gaussian_kernel_size, sigma_standard_deviation)"
   ]
  },
  {
   "cell_type": "code",
   "execution_count": 3,
   "metadata": {},
   "outputs": [
    {
     "name": "stderr",
     "output_type": "stream",
     "text": [
      "[ WARN:0@56.458] global loadsave.cpp:248 findDecoder imread_('images/lane-detection-test-image.png'): can't open/read file: check file path/integrity\n"
     ]
    },
    {
     "ename": "error",
     "evalue": "OpenCV(4.9.0) /Users/runner/work/opencv-python/opencv-python/opencv/modules/imgproc/src/smooth.dispatch.cpp:617: error: (-215:Assertion failed) !_src.empty() in function 'GaussianBlur'\n",
     "output_type": "error",
     "traceback": [
      "\u001b[0;31m---------------------------------------------------------------------------\u001b[0m",
      "\u001b[0;31merror\u001b[0m                                     Traceback (most recent call last)",
      "Cell \u001b[0;32mIn[3], line 18\u001b[0m\n\u001b[1;32m     15\u001b[0m lower_threshold: \u001b[38;5;28mint\u001b[39m \u001b[38;5;241m=\u001b[39m \u001b[38;5;241m100\u001b[39m\n\u001b[1;32m     16\u001b[0m upper_threshold: \u001b[38;5;28mint\u001b[39m \u001b[38;5;241m=\u001b[39m \u001b[38;5;241m200\u001b[39m\n\u001b[0;32m---> 18\u001b[0m edges: np\u001b[38;5;241m.\u001b[39mndarray \u001b[38;5;241m=\u001b[39m \u001b[43mcanny_edge_detection\u001b[49m\u001b[43m(\u001b[49m\u001b[43mimage_path\u001b[49m\u001b[43m,\u001b[49m\u001b[43m \u001b[49m\u001b[43mlower_threshold\u001b[49m\u001b[43m,\u001b[49m\u001b[43m \u001b[49m\u001b[43mupper_threshold\u001b[49m\u001b[43m)\u001b[49m\n\u001b[1;32m     20\u001b[0m \u001b[38;5;66;03m# Display the original image and the edges\u001b[39;00m\n\u001b[1;32m     21\u001b[0m cv2\u001b[38;5;241m.\u001b[39mimshow(\u001b[38;5;124m'\u001b[39m\u001b[38;5;124mOriginal Image\u001b[39m\u001b[38;5;124m'\u001b[39m, cv2\u001b[38;5;241m.\u001b[39mimread(image_path))\n",
      "Cell \u001b[0;32mIn[3], line 6\u001b[0m, in \u001b[0;36mcanny_edge_detection\u001b[0;34m(image_path, lower_threshold, upper_threshold)\u001b[0m\n\u001b[1;32m      3\u001b[0m image \u001b[38;5;241m=\u001b[39m cv2\u001b[38;5;241m.\u001b[39mimread(image_path, cv2\u001b[38;5;241m.\u001b[39mIMREAD_GRAYSCALE)\n\u001b[1;32m      5\u001b[0m \u001b[38;5;66;03m# Apply Gaussian blur to reduce noise\u001b[39;00m\n\u001b[0;32m----> 6\u001b[0m blurred \u001b[38;5;241m=\u001b[39m \u001b[43mcv2\u001b[49m\u001b[38;5;241;43m.\u001b[39;49m\u001b[43mGaussianBlur\u001b[49m\u001b[43m(\u001b[49m\u001b[43mimage\u001b[49m\u001b[43m,\u001b[49m\u001b[43m \u001b[49m\u001b[43m(\u001b[49m\u001b[38;5;241;43m5\u001b[39;49m\u001b[43m,\u001b[49m\u001b[43m \u001b[49m\u001b[38;5;241;43m5\u001b[39;49m\u001b[43m)\u001b[49m\u001b[43m,\u001b[49m\u001b[43m \u001b[49m\u001b[38;5;241;43m0\u001b[39;49m\u001b[43m)\u001b[49m\n\u001b[1;32m      8\u001b[0m \u001b[38;5;66;03m# Perform Canny edge detection\u001b[39;00m\n\u001b[1;32m      9\u001b[0m edges \u001b[38;5;241m=\u001b[39m cv2\u001b[38;5;241m.\u001b[39mCanny(blurred, lower_threshold, upper_threshold)\n",
      "\u001b[0;31merror\u001b[0m: OpenCV(4.9.0) /Users/runner/work/opencv-python/opencv-python/opencv/modules/imgproc/src/smooth.dispatch.cpp:617: error: (-215:Assertion failed) !_src.empty() in function 'GaussianBlur'\n"
     ]
    }
   ],
   "source": [
    "\n",
    "def canny_edge_detection(image_path: str, lower_threshold: int, upper_threshold: int) -> np.ndarray:\n",
    "\n",
    "\n",
    "    # Perform Canny edge detection\n",
    "    edges = cv2.Canny(blurred, lower_threshold, upper_threshold)\n",
    "\n",
    "    return edges\n",
    "\n",
    "# Example usage\n",
    "image_path: str = 'images/lane-detection-test-image.png'\n",
    "lower_threshold: int = 100\n",
    "upper_threshold: int = 200\n",
    "\n",
    "edges: np.ndarray = canny_edge_detection(image_path, lower_threshold, upper_threshold)\n",
    "\n",
    "# Display the original image and the edges\n",
    "cv2.imshow('Original Image', cv2.imread(image_path))\n",
    "cv2.imshow('Canny Edges', edges)\n",
    "cv2.waitKey(0)\n",
    "cv2.destroyAllWindows()"
   ]
  },
  {
   "cell_type": "code",
   "execution_count": null,
   "metadata": {},
   "outputs": [],
   "source": []
  }
 ],
 "metadata": {
  "kernelspec": {
   "display_name": "canny",
   "language": "python",
   "name": "python3"
  },
  "language_info": {
   "codemirror_mode": {
    "name": "ipython",
    "version": 3
   },
   "file_extension": ".py",
   "mimetype": "text/x-python",
   "name": "python",
   "nbconvert_exporter": "python",
   "pygments_lexer": "ipython3",
   "version": "3.11.8"
  }
 },
 "nbformat": 4,
 "nbformat_minor": 2
}
